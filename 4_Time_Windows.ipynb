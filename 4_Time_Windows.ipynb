{
  "nbformat": 4,
  "nbformat_minor": 0,
  "metadata": {
    "colab": {
      "name": "4_Time_Windows.ipynb",
      "provenance": [],
      "collapsed_sections": []
    },
    "kernelspec": {
      "name": "python3",
      "display_name": "Python 3"
    },
    "language_info": {
      "name": "python"
    }
  },
  "cells": [
    {
      "cell_type": "code",
      "metadata": {
        "id": "rCpe_9GccZah"
      },
      "source": [
        "import tensorflow as tf"
      ],
      "execution_count": 1,
      "outputs": []
    },
    {
      "cell_type": "markdown",
      "metadata": {
        "id": "D4sWMbq_XM44"
      },
      "source": [
        "# Creating Dataset"
      ]
    },
    {
      "cell_type": "code",
      "metadata": {
        "colab": {
          "base_uri": "https://localhost:8080/"
        },
        "id": "FaZLf58xWLbe",
        "outputId": "e7f52c67-1757-4167-84cf-f473747c787e"
      },
      "source": [
        "dataset = tf.data.Dataset.range(10)\n",
        "print(dataset)\n",
        "print(type(dataset))"
      ],
      "execution_count": 7,
      "outputs": [
        {
          "output_type": "stream",
          "name": "stdout",
          "text": [
            "<RangeDataset shapes: (), types: tf.int64>\n",
            "<class 'tensorflow.python.data.ops.dataset_ops.RangeDataset'>\n"
          ]
        }
      ]
    },
    {
      "cell_type": "code",
      "metadata": {
        "colab": {
          "base_uri": "https://localhost:8080/"
        },
        "id": "5X6n7fJIWLem",
        "outputId": "be7d3749-04d0-4d52-dc50-6282479678e5"
      },
      "source": [
        "for val in dataset:\n",
        "  print(val)"
      ],
      "execution_count": 8,
      "outputs": [
        {
          "output_type": "stream",
          "name": "stdout",
          "text": [
            "tf.Tensor(0, shape=(), dtype=int64)\n",
            "tf.Tensor(1, shape=(), dtype=int64)\n",
            "tf.Tensor(2, shape=(), dtype=int64)\n",
            "tf.Tensor(3, shape=(), dtype=int64)\n",
            "tf.Tensor(4, shape=(), dtype=int64)\n",
            "tf.Tensor(5, shape=(), dtype=int64)\n",
            "tf.Tensor(6, shape=(), dtype=int64)\n",
            "tf.Tensor(7, shape=(), dtype=int64)\n",
            "tf.Tensor(8, shape=(), dtype=int64)\n",
            "tf.Tensor(9, shape=(), dtype=int64)\n"
          ]
        }
      ]
    },
    {
      "cell_type": "code",
      "metadata": {
        "colab": {
          "base_uri": "https://localhost:8080/"
        },
        "id": "PNVUS3_cWLg8",
        "outputId": "4b9e762f-1dd9-4a89-ddec-71866b6090ac"
      },
      "source": [
        "for val in dataset:\n",
        "  print(val.numpy(), val.shape, val.ndim)"
      ],
      "execution_count": 11,
      "outputs": [
        {
          "output_type": "stream",
          "name": "stdout",
          "text": [
            "0 () 0\n",
            "1 () 0\n",
            "2 () 0\n",
            "3 () 0\n",
            "4 () 0\n",
            "5 () 0\n",
            "6 () 0\n",
            "7 () 0\n",
            "8 () 0\n",
            "9 () 0\n"
          ]
        }
      ]
    },
    {
      "cell_type": "markdown",
      "metadata": {
        "id": "YwuiyuK9XQOe"
      },
      "source": [
        "# Shifting Dataset"
      ]
    },
    {
      "cell_type": "code",
      "metadata": {
        "colab": {
          "base_uri": "https://localhost:8080/"
        },
        "id": "iRfSaXzwWLjS",
        "outputId": "70636319-fac7-4dff-caeb-6d648ed753b1"
      },
      "source": [
        "dataset = tf.data.Dataset.range(10)\n",
        "dataset = dataset.window(5, shift=1)\n",
        "for window_ds in dataset:\n",
        "  for val in window_ds:\n",
        "    print(val.numpy(), end=\" \")\n",
        "  print()"
      ],
      "execution_count": 15,
      "outputs": [
        {
          "output_type": "stream",
          "name": "stdout",
          "text": [
            "0 1 2 3 4 \n",
            "1 2 3 4 5 \n",
            "2 3 4 5 6 \n",
            "3 4 5 6 7 \n",
            "4 5 6 7 8 \n",
            "5 6 7 8 9 \n",
            "6 7 8 9 \n",
            "7 8 9 \n",
            "8 9 \n",
            "9 \n"
          ]
        }
      ]
    },
    {
      "cell_type": "code",
      "metadata": {
        "colab": {
          "base_uri": "https://localhost:8080/"
        },
        "id": "kxKxTBPJd_-P",
        "outputId": "c2168b1c-bdb0-4960-f0e4-c7b98ad940ab"
      },
      "source": [
        "dataset = tf.data.Dataset.range(10)\n",
        "dataset = dataset.window(5, shift=1, drop_remainder=True)\n",
        "for window_ds in dataset:\n",
        "  for val in window_ds:\n",
        "    print(val.numpy(), end=\" \")\n",
        "  print()"
      ],
      "execution_count": 16,
      "outputs": [
        {
          "output_type": "stream",
          "name": "stdout",
          "text": [
            "0 1 2 3 4 \n",
            "1 2 3 4 5 \n",
            "2 3 4 5 6 \n",
            "3 4 5 6 7 \n",
            "4 5 6 7 8 \n",
            "5 6 7 8 9 \n"
          ]
        }
      ]
    },
    {
      "cell_type": "code",
      "metadata": {
        "colab": {
          "base_uri": "https://localhost:8080/"
        },
        "id": "Pg4O5EhBWLln",
        "outputId": "119d8a24-6b8d-426a-c5fd-9f424e3083fd"
      },
      "source": [
        "dataset = tf.data.Dataset.range(10)\n",
        "dataset = dataset.window(5, shift=1, drop_remainder=True)\n",
        "dataset = dataset.flat_map(lambda window: window.batch(5))\n",
        "print(dataset)\n",
        "\n",
        "for window in dataset:\n",
        "  print(window)"
      ],
      "execution_count": 18,
      "outputs": [
        {
          "output_type": "stream",
          "name": "stdout",
          "text": [
            "<FlatMapDataset shapes: (None,), types: tf.int64>\n",
            "tf.Tensor([0 1 2 3 4], shape=(5,), dtype=int64)\n",
            "tf.Tensor([1 2 3 4 5], shape=(5,), dtype=int64)\n",
            "tf.Tensor([2 3 4 5 6], shape=(5,), dtype=int64)\n",
            "tf.Tensor([3 4 5 6 7], shape=(5,), dtype=int64)\n",
            "tf.Tensor([4 5 6 7 8], shape=(5,), dtype=int64)\n",
            "tf.Tensor([5 6 7 8 9], shape=(5,), dtype=int64)\n"
          ]
        }
      ]
    },
    {
      "cell_type": "code",
      "metadata": {
        "colab": {
          "base_uri": "https://localhost:8080/"
        },
        "id": "EUm0uLHGWLn2",
        "outputId": "ede9507e-431b-4e70-e362-d424a050710f"
      },
      "source": [
        "dataset = tf.data.Dataset.range(10)\n",
        "dataset = dataset.window(5, shift=1, drop_remainder=True)\n",
        "dataset = dataset.flat_map(lambda window: window.batch(5))\n",
        "dataset = dataset.map(lambda window: (window[:-1], window[-1:]))\n",
        "\n",
        "print(dataset)\n",
        "\n",
        "for val in dataset:\n",
        "  print(val)\n",
        "\n",
        "for x,y in dataset:\n",
        "  print(x.numpy(),y.numpy())"
      ],
      "execution_count": 22,
      "outputs": [
        {
          "output_type": "stream",
          "name": "stdout",
          "text": [
            "<MapDataset shapes: ((None,), (None,)), types: (tf.int64, tf.int64)>\n",
            "(<tf.Tensor: shape=(4,), dtype=int64, numpy=array([0, 1, 2, 3])>, <tf.Tensor: shape=(1,), dtype=int64, numpy=array([4])>)\n",
            "(<tf.Tensor: shape=(4,), dtype=int64, numpy=array([1, 2, 3, 4])>, <tf.Tensor: shape=(1,), dtype=int64, numpy=array([5])>)\n",
            "(<tf.Tensor: shape=(4,), dtype=int64, numpy=array([2, 3, 4, 5])>, <tf.Tensor: shape=(1,), dtype=int64, numpy=array([6])>)\n",
            "(<tf.Tensor: shape=(4,), dtype=int64, numpy=array([3, 4, 5, 6])>, <tf.Tensor: shape=(1,), dtype=int64, numpy=array([7])>)\n",
            "(<tf.Tensor: shape=(4,), dtype=int64, numpy=array([4, 5, 6, 7])>, <tf.Tensor: shape=(1,), dtype=int64, numpy=array([8])>)\n",
            "(<tf.Tensor: shape=(4,), dtype=int64, numpy=array([5, 6, 7, 8])>, <tf.Tensor: shape=(1,), dtype=int64, numpy=array([9])>)\n",
            "[0 1 2 3] [4]\n",
            "[1 2 3 4] [5]\n",
            "[2 3 4 5] [6]\n",
            "[3 4 5 6] [7]\n",
            "[4 5 6 7] [8]\n",
            "[5 6 7 8] [9]\n"
          ]
        }
      ]
    },
    {
      "cell_type": "code",
      "metadata": {
        "colab": {
          "base_uri": "https://localhost:8080/"
        },
        "id": "VBP3nukVgPe4",
        "outputId": "76cc5721-af44-48c8-a9db-2fd64faf6bf8"
      },
      "source": [
        "dataset = tf.data.Dataset.range(10)\n",
        "dataset = dataset.window(5, shift=1, drop_remainder=True)\n",
        "dataset = dataset.flat_map(lambda window: window.batch(5))\n",
        "dataset = dataset.map(lambda window: (window[:-1], window[-1:]))\n",
        "dataset = dataset.shuffle(buffer_size=10)\n",
        "\n",
        "print(dataset)\n",
        "\n",
        "for val in dataset:\n",
        "  print(val)\n",
        "\n",
        "for x,y in dataset:\n",
        "  print(x.numpy(),y.numpy())"
      ],
      "execution_count": 23,
      "outputs": [
        {
          "output_type": "stream",
          "name": "stdout",
          "text": [
            "<ShuffleDataset shapes: ((None,), (None,)), types: (tf.int64, tf.int64)>\n",
            "(<tf.Tensor: shape=(4,), dtype=int64, numpy=array([2, 3, 4, 5])>, <tf.Tensor: shape=(1,), dtype=int64, numpy=array([6])>)\n",
            "(<tf.Tensor: shape=(4,), dtype=int64, numpy=array([0, 1, 2, 3])>, <tf.Tensor: shape=(1,), dtype=int64, numpy=array([4])>)\n",
            "(<tf.Tensor: shape=(4,), dtype=int64, numpy=array([3, 4, 5, 6])>, <tf.Tensor: shape=(1,), dtype=int64, numpy=array([7])>)\n",
            "(<tf.Tensor: shape=(4,), dtype=int64, numpy=array([4, 5, 6, 7])>, <tf.Tensor: shape=(1,), dtype=int64, numpy=array([8])>)\n",
            "(<tf.Tensor: shape=(4,), dtype=int64, numpy=array([1, 2, 3, 4])>, <tf.Tensor: shape=(1,), dtype=int64, numpy=array([5])>)\n",
            "(<tf.Tensor: shape=(4,), dtype=int64, numpy=array([5, 6, 7, 8])>, <tf.Tensor: shape=(1,), dtype=int64, numpy=array([9])>)\n",
            "[3 4 5 6] [7]\n",
            "[2 3 4 5] [6]\n",
            "[4 5 6 7] [8]\n",
            "[0 1 2 3] [4]\n",
            "[5 6 7 8] [9]\n",
            "[1 2 3 4] [5]\n"
          ]
        }
      ]
    },
    {
      "cell_type": "code",
      "metadata": {
        "colab": {
          "base_uri": "https://localhost:8080/"
        },
        "id": "DG7d3VJ9gPhr",
        "outputId": "595be33d-9084-4f91-c898-9ce48ac064da"
      },
      "source": [
        "dataset = tf.data.Dataset.range(10)\n",
        "dataset = dataset.window(5, shift=1, drop_remainder=True)\n",
        "dataset = dataset.flat_map(lambda window: window.batch(5))\n",
        "dataset = dataset.map(lambda window: (window[:-1], window[-1:]))\n",
        "dataset = dataset.shuffle(buffer_size=10)\n",
        "dataset = dataset.batch(2).prefetch(1)\n",
        "\n",
        "print(dataset)\n",
        "for val in dataset:\n",
        "  print(val)\n",
        "\n",
        "for x,y in dataset:\n",
        "  print(x.numpy(),y.numpy())"
      ],
      "execution_count": 26,
      "outputs": [
        {
          "output_type": "stream",
          "name": "stdout",
          "text": [
            "<PrefetchDataset shapes: ((None, None), (None, None)), types: (tf.int64, tf.int64)>\n",
            "(<tf.Tensor: shape=(2, 4), dtype=int64, numpy=\n",
            "array([[1, 2, 3, 4],\n",
            "       [5, 6, 7, 8]])>, <tf.Tensor: shape=(2, 1), dtype=int64, numpy=\n",
            "array([[5],\n",
            "       [9]])>)\n",
            "(<tf.Tensor: shape=(2, 4), dtype=int64, numpy=\n",
            "array([[3, 4, 5, 6],\n",
            "       [4, 5, 6, 7]])>, <tf.Tensor: shape=(2, 1), dtype=int64, numpy=\n",
            "array([[7],\n",
            "       [8]])>)\n",
            "(<tf.Tensor: shape=(2, 4), dtype=int64, numpy=\n",
            "array([[0, 1, 2, 3],\n",
            "       [2, 3, 4, 5]])>, <tf.Tensor: shape=(2, 1), dtype=int64, numpy=\n",
            "array([[4],\n",
            "       [6]])>)\n",
            "[[3 4 5 6]\n",
            " [5 6 7 8]] [[7]\n",
            " [9]]\n",
            "[[1 2 3 4]\n",
            " [0 1 2 3]] [[5]\n",
            " [4]]\n",
            "[[2 3 4 5]\n",
            " [4 5 6 7]] [[6]\n",
            " [8]]\n"
          ]
        }
      ]
    },
    {
      "cell_type": "code",
      "metadata": {
        "id": "UwBppFmMgPkn"
      },
      "source": [
        "def window_dataset(series, window_size, batch_size=32, shuffle_buffer=1000):\n",
        "  dataset = tf.data.Dataset.from_tensor_slices(series)\n",
        "  dataset = dataset.window(size=window_size+1, shift=1, drop_remainder=True)\n",
        "  dataset = dataset.flat_map(lambda window: window.batch(window_size+1))\n",
        "  dataset = dataset.shuffle(shuffle_buffer)\n",
        "  dataset = dataset.map(lambda window: (window[:-1], window[-1:]))\n",
        "  dataset = dataset.batch(batch_size).prefetch(1)\n",
        "  \n",
        "  return dataset"
      ],
      "execution_count": 27,
      "outputs": []
    },
    {
      "cell_type": "code",
      "metadata": {
        "id": "nbSlytPwgPoN"
      },
      "source": [
        ""
      ],
      "execution_count": null,
      "outputs": []
    }
  ]
}